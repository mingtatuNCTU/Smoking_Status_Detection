{
 "cells": [
  {
   "cell_type": "code",
   "execution_count": 1,
   "metadata": {},
   "outputs": [
    {
     "name": "stdout",
     "output_type": "stream",
     "text": [
      "['UNKNOWN', 'NON-SMOKER', 'PAST SMOKER', 'CURRENT SMOKER']\n",
      "Size of df_train = 24\n",
      "Size of df_val = 16\n"
     ]
    },
    {
     "data": {
      "image/png": "[encoded data removed]",
      "text/plain": [
       "<Figure size 432x288 with 1 Axes>"
      ]
     },
     "metadata": {
      "needs_background": "light"
     },
     "output_type": "display_data"
    },
    {
     "data": {
      "image/png": "[encoded data removed]",
      "text/plain": [
       "<Figure size 432x288 with 1 Axes>"
      ]
     },
     "metadata": {
      "needs_background": "light"
     },
     "output_type": "display_data"
    },
    {
     "data": {
      "image/png": "[encoded data removed]",
      "text/plain": [
       "<Figure size 432x288 with 1 Axes>"
      ]
     },
     "metadata": {
      "needs_background": "light"
     },
     "output_type": "display_data"
    }
   ],
   "source": [
    "import os\n",
    "import pandas as pd\n",
    "import numpy as np\n",
    "\n",
    "PATH = os.path.abspath(os.getcwd())\n",
    "datasetPath = PATH+\"/Case_Presentation/\"\n",
    "TraindatasetPath = datasetPath+\"train/\"\n",
    "TestdatasetPath = datasetPath+\"test/\"\n",
    "\n",
    "#Make Label file\n",
    "FileList = os.listdir(TraindatasetPath)\n",
    "ClassName = []\n",
    "\n",
    "for i in range(len(FileList)):\n",
    "    if FileList[i] != 'train.csv' and FileList[i] != 'classes.txt' and FileList[i] != '.ipynb_checkpoints':\n",
    "        tmpName = FileList[i].split(\"_\",1)[0]\n",
    "        try:\n",
    "            ClassName.index(tmpName)\n",
    "        except :\n",
    "            ClassName.append(tmpName)\n",
    "        \n",
    "print(ClassName)\n",
    "\n",
    "file = open(datasetPath+'classes.txt','w');\n",
    "for i in range(len(ClassName)):\n",
    "    file.write(str(ClassName[i])+'\\n');\n",
    "file.close();\n",
    "\n",
    "#Creat Training file\n",
    "CLASSNAME = []\n",
    "CLASSNAMES = []\n",
    "INFO = []\n",
    "FileList = os.listdir(TraindatasetPath)\n",
    "\n",
    "\n",
    "for i in range(len(FileList)):\n",
    "    filename = FileList[i]\n",
    "    tmpName = filename.split(\"_\",1)[0]\n",
    "    classN = ClassName.index(tmpName)\n",
    "    try:\n",
    "        classN = ClassName.index(tmpName)\n",
    "        CLASSNAMES.append(tmpName)\n",
    "        CLASSNAME.append(classN)\n",
    "    \n",
    "        file = open(TraindatasetPath+filename,'r')\n",
    "        info = file.read()\n",
    "        file.close()\n",
    "        INFO.append(info)\n",
    "        \n",
    "    except :\n",
    "        print(\"except {}\".format(tmpName))\n",
    "    \n",
    "\n",
    "df = pd.DataFrame({'label1':CLASSNAME,'label2':CLASSNAMES,'text':INFO})\n",
    "df.plot.hist()\n",
    "\n",
    "DFSIZE = df.index.size\n",
    "\n",
    "REPLACE=False\n",
    "ratio = 0.6\n",
    "ratio_tr = int(ratio*DFSIZE)\n",
    "ratio_val = DFSIZE-ratio_tr\n",
    "\n",
    "df_train = df.sample(n=ratio_tr, replace=REPLACE)\n",
    "df_val = df.sample(n=ratio_val, replace=REPLACE)\n",
    "\n",
    "df_train.plot.hist()\n",
    "df_val.plot.hist()\n",
    "print(\"Size of df_train = {}\".format(df_train.index.size))\n",
    "print(\"Size of df_val = {}\".format(df_val.index.size))\n",
    "\n",
    "df_train.to_csv(datasetPath+\"train.csv\",index=False,sep=',',header=False)\n",
    "df_val.to_csv(datasetPath+\"val.csv\",index=False,sep=',',header=False)\n",
    "\n",
    "\n",
    "#Creat Testing file\n",
    "CLASSNAME = []\n",
    "CLASSNAMES = []\n",
    "INFO = []\n",
    "FileList = os.listdir(TestdatasetPath)\n",
    "\n",
    "\n",
    "for i in range(len(FileList)):\n",
    "    filename = FileList[i]    \n",
    "    tmpName = filename.split(\"_\",1)[0]\n",
    "    \n",
    "    CLASSNAME.append(0)\n",
    "    CLASSNAMES.append(ClassName[0])\n",
    "    \n",
    "    file = open(TestdatasetPath+filename,'r')\n",
    "    info = file.read()\n",
    "    file.close()\n",
    "    INFO.append(info)\n",
    "        \n",
    "import pandas as pd\n",
    "df_test = pd.DataFrame({'label1':CLASSNAME,'label2':CLASSNAMES,'text':INFO})\n",
    "df_test.to_csv(datasetPath+\"test.csv\",index=False,sep=',',header=False)\n"
   ]
  },
  {
   "cell_type": "code",
   "execution_count": 2,
   "metadata": {},
   "outputs": [],
   "source": [
    "import logging\n",
    "import torch\n",
    "import io\n",
    "from torchtext.utils import download_from_url, extract_archive, unicode_csv_reader\n",
    "from torchtext.data.utils import ngrams_iterator\n",
    "from torchtext.data.utils import get_tokenizer\n",
    "from torchtext.vocab import build_vocab_from_iterator\n",
    "from torchtext.vocab import Vocab\n",
    "from tqdm import tqdm\n",
    "\n",
    "URLS = {\n",
    "    'Smoking_Status':\n",
    "        'https://drive.google.com/uc?export=download&id=0Bz8a_Dbh9QhbUDNpeUdjb0wxRms'\n",
    "}\n",
    "\n",
    "\n",
    "def _csv_iterator(data_path, ngrams, yield_cls=False):\n",
    "    tokenizer = get_tokenizer(\"basic_english\")\n",
    "    with io.open(data_path, encoding=\"utf8\") as f:\n",
    "        reader = unicode_csv_reader(f)\n",
    "        for row in reader:\n",
    "            tokens = ' '.join(row[1:])\n",
    "            tokens = tokenizer(tokens)\n",
    "            if yield_cls:\n",
    "                #yield int(row[0]) - 1, ngrams_iterator(tokens, ngrams)\n",
    "                yield int(row[0]), ngrams_iterator(tokens, ngrams)\n",
    "            else:\n",
    "                yield ngrams_iterator(tokens, ngrams)\n",
    "\n",
    "\n",
    "def _create_data_from_iterator(vocab, iterator, include_unk):\n",
    "    data = []\n",
    "    labels = []\n",
    "    with tqdm(unit_scale=0, unit='lines') as t:\n",
    "        for cls, tokens in iterator:\n",
    "            if include_unk:\n",
    "                tokens = torch.tensor([vocab[token] for token in tokens])\n",
    "            else:\n",
    "                token_ids = list(filter(lambda x: x is not Vocab.UNK, [vocab[token]\n",
    "                                        for token in tokens]))\n",
    "                tokens = torch.tensor(token_ids)\n",
    "            if len(tokens) == 0:\n",
    "                logging.info('Row contains no tokens.')\n",
    "            data.append((cls, tokens))\n",
    "            labels.append(cls)\n",
    "            t.update(1)\n",
    "    return data, set(labels)\n",
    "\n",
    "\n",
    "class TextClassificationDataset(torch.utils.data.Dataset):\n",
    "    \"\"\"Defines an abstract text classification datasets.\n",
    "       Currently, we only support the following datasets:\n",
    "             - AG_NEWS\n",
    "             - SogouNews\n",
    "             - DBpedia\n",
    "             - YelpReviewPolarity\n",
    "             - YelpReviewFull\n",
    "             - YahooAnswers\n",
    "             - AmazonReviewPolarity\n",
    "             - AmazonReviewFull\n",
    "    \"\"\"\n",
    "\n",
    "    def __init__(self, vocab, data, labels):\n",
    "        \"\"\"Initiate text-classification dataset.\n",
    "        Arguments:\n",
    "            vocab: Vocabulary object used for dataset.\n",
    "            data: a list of label/tokens tuple. tokens are a tensor after\n",
    "                numericalizing the string tokens. label is an integer.\n",
    "                [(label1, tokens1), (label2, tokens2), (label2, tokens3)]\n",
    "            label: a set of the labels.\n",
    "                {label1, label2}\n",
    "        Examples:\n",
    "            See the examples in examples/text_classification/\n",
    "        \"\"\"\n",
    "\n",
    "        super(TextClassificationDataset, self).__init__()\n",
    "        self._data = data\n",
    "        self._labels = labels\n",
    "        self._vocab = vocab\n",
    "\n",
    "    def __getitem__(self, i):\n",
    "        return self._data[i]\n",
    "\n",
    "    def __len__(self):\n",
    "        return len(self._data)\n",
    "\n",
    "    def __iter__(self):\n",
    "        for x in self._data:\n",
    "            yield x\n",
    "\n",
    "    def get_labels(self):\n",
    "        return self._labels\n",
    "\n",
    "    def get_vocab(self):\n",
    "        return self._vocab\n",
    "\n",
    "\n",
    "def _setup_datasets(dataset_name, root='.data', ngrams=1, vocab=None, include_unk=False):\n",
    "    #dataset_tar = download_from_url(URLS[dataset_name], root=root)\n",
    "    #extracted_files = extract_archive(dataset_tar)\n",
    "    rootPath =root\n",
    "    extracted_files = [rootPath+'train.csv',rootPath+'test.csv',rootPath+'classes.txt',rootPath+'readme.txt',rootPath+'val.csv']   \n",
    "    for fname in extracted_files:\n",
    "        if fname.endswith('train.csv'):\n",
    "            train_csv_path = fname\n",
    "        #if fname.endswith('test.csv'):\n",
    "        if fname.endswith('val.csv'):    \n",
    "            test_csv_path = fname\n",
    "\n",
    "    if vocab is None:\n",
    "        print('Building Vocab based on {}'.format(train_csv_path))\n",
    "        vocab = build_vocab_from_iterator(_csv_iterator(train_csv_path, ngrams))\n",
    "    else:\n",
    "        if not isinstance(vocab, Vocab):\n",
    "            raise TypeError(\"Passed vocabulary is not of type Vocab\")\n",
    "    print('Vocab has {} entries'.format(len(vocab)))\n",
    "    \n",
    "    print('Creating training data')\n",
    "    train_data, train_labels = _create_data_from_iterator(\n",
    "        vocab, _csv_iterator(train_csv_path, ngrams, yield_cls=True), include_unk)\n",
    "    \n",
    "    print('Creating val data')\n",
    "    test_data, test_labels = _create_data_from_iterator(\n",
    "        vocab, _csv_iterator(test_csv_path, ngrams, yield_cls=True), include_unk)\n",
    "    \n",
    "    \n",
    "    print(train_labels)\n",
    "    print(test_labels)\n",
    "    \n",
    "   \n",
    "    if len(train_labels ^ test_labels) > 0:\n",
    "        raise ValueError(\"Training and val labels don't match\")\n",
    "    return (TextClassificationDataset(vocab, train_data, train_labels),\n",
    "            TextClassificationDataset(vocab, test_data, test_labels))\n",
    "\n",
    "\n",
    "def Smoking_Status(*args, **kwargs):\n",
    "    \"\"\" Defines Smoking_Status datasets.\n",
    "        The labels includes:\n",
    "            - 0 : UNKNOWN\n",
    "            - 1 : NON-SMOKER\n",
    "            - 2 : PAST SMOKER\n",
    "            - 3 : CURRENT SMOKER\n",
    "    Create supervised learning dataset: Smoking_Status\n",
    "    Separately returns the training and test dataset\n",
    "    Arguments:\n",
    "        root: Directory where the datasets are saved. Default: \".data\"\n",
    "        ngrams: a contiguous sequence of n items from s string text.\n",
    "            Default: 1\n",
    "        vocab: Vocabulary used for dataset. If None, it will generate a new\n",
    "            vocabulary based on the train data set.\n",
    "        include_unk: include unknown token in the data (Default: False)\n",
    "    Examples:\n",
    "        >>> train_dataset, test_dataset = torchtext.datasets.Smoking_Status(ngrams=3)\n",
    "    \"\"\"\n",
    "\n",
    "    return _setup_datasets(*((\"Smoking_Status\",) + args), **kwargs)\n",
    "\n",
    "\n",
    "DATASETS = {\n",
    "    'Smoking_Status': Smoking_Status\n",
    "}\n",
    "\n",
    "\n",
    "LABELS = {\n",
    "    'Smoking_Status': {0: 'UNKNOWN',\n",
    "                1: 'NON-SMOKER',\n",
    "                2: 'PAST SMOKER',\n",
    "                3: 'CURRENT SMOKER'}\n",
    "}\n"
   ]
  },
  {
   "cell_type": "code",
   "execution_count": 3,
   "metadata": {},
   "outputs": [
    {
     "name": "stderr",
     "output_type": "stream",
     "text": [
      "24lines [00:00, 1598.62lines/s]\n",
      "24lines [00:00, 1061.03lines/s]\n",
      "16lines [00:00, 854.75lines/s]"
     ]
    },
    {
     "name": "stdout",
     "output_type": "stream",
     "text": [
      "Building Vocab based on /home/kevin7674/mingta/hw1/Smoking_Status_Detection/Case_Presentation/train.csv\n",
      "Vocab has 9486 entries\n",
      "Creating training data\n",
      "Creating val data\n",
      "{0, 1, 2, 3}\n",
      "{0, 1, 2, 3}\n"
     ]
    },
    {
     "name": "stderr",
     "output_type": "stream",
     "text": [
      "\n"
     ]
    }
   ],
   "source": [
    "import os\n",
    "import torch\n",
    "import torchtext\n",
    "\n",
    "NGRAMS = 2\n",
    "PATH = os.path.abspath(os.getcwd())\n",
    "datasetPath = PATH+\"/Case_Presentation/\"\n",
    "TraindatasetPath = datasetPath+\"train/\"\n",
    "TestdatasetPath = datasetPath+\"test/\"\n",
    "\n",
    "# if not os.path.isdir(datasetPath+'NLPdata'):\n",
    "#     os.mkdir(datasetPath+'NLPdata')\n",
    "train_dataset, test_dataset = DATASETS['Smoking_Status'](\n",
    "    root=datasetPath, ngrams=NGRAMS, vocab=None)\n",
    "BATCH_SIZE = 16\n",
    "device = torch.device(\"cuda\" if torch.cuda.is_available() else \"cpu\")"
   ]
  },
  {
   "cell_type": "code",
   "execution_count": 4,
   "metadata": {},
   "outputs": [],
   "source": [
    "import torch.nn as nn\n",
    "import torch.nn.functional as F\n",
    "class TextSentiment(nn.Module):\n",
    "    def __init__(self, vocab_size, embed_dim, num_class):\n",
    "        super().__init__()\n",
    "        self.embedding = nn.EmbeddingBag(vocab_size, embed_dim, sparse=True)\n",
    "        self.fc = nn.Linear(embed_dim, num_class)\n",
    "        self.init_weights()\n",
    "\n",
    "    def init_weights(self):\n",
    "        initrange = 0.5\n",
    "        self.embedding.weight.data.uniform_(-initrange, initrange)\n",
    "        self.fc.weight.data.uniform_(-initrange, initrange)\n",
    "        self.fc.bias.data.zero_()\n",
    "\n",
    "    def forward(self, text, offsets):\n",
    "        embedded = self.embedding(text, offsets)\n",
    "        return self.fc(embedded)"
   ]
  },
  {
   "cell_type": "code",
   "execution_count": 5,
   "metadata": {},
   "outputs": [],
   "source": [
    "VOCAB_SIZE = len(train_dataset.get_vocab())\n",
    "EMBED_DIM = 32\n",
    "NUN_CLASS = len(train_dataset.get_labels())\n",
    "model = TextSentiment(VOCAB_SIZE, EMBED_DIM, NUN_CLASS).to(device)\n",
    "# print(train_dataset.__getitem__(0))\n",
    "# print(train_dataset.get_labels())\n",
    "# print(train_dataset.get_vocab())"
   ]
  },
  {
   "cell_type": "code",
   "execution_count": 6,
   "metadata": {},
   "outputs": [],
   "source": [
    "def generate_batch(batch):\n",
    "    label = torch.tensor([entry[0] for entry in batch])\n",
    "    text = [entry[1] for entry in batch]\n",
    "    offsets = [0] + [len(entry) for entry in text]\n",
    "    # torch.Tensor.cumsum returns the cumulative sum\n",
    "    # of elements in the dimension dim.\n",
    "    # torch.Tensor([1.0, 2.0, 3.0]).cumsum(dim=0)\n",
    "\n",
    "    offsets = torch.tensor(offsets[:-1]).cumsum(dim=0)\n",
    "    text = torch.cat(text)\n",
    "    return text, offsets, label\n"
   ]
  },
  {
   "cell_type": "code",
   "execution_count": 10,
   "metadata": {},
   "outputs": [
    {
     "ename": "NameError",
     "evalue": "name 'model_object' is not defined",
     "output_type": "error",
     "traceback": [
      "\u001b[0;31m---------------------------------------------------------------------------\u001b[0m",
      "\u001b[0;31mNameError\u001b[0m                                 Traceback (most recent call last)",
      "\u001b[0;32m<ipython-input-10-f82ec0299fca>\u001b[0m in \u001b[0;36m<module>\u001b[0;34m\u001b[0m\n\u001b[1;32m     76\u001b[0m     \u001b[0;32mif\u001b[0m \u001b[0mtrain_acc\u001b[0m \u001b[0;34m*\u001b[0m \u001b[0;36m100\u001b[0m \u001b[0;34m>\u001b[0m \u001b[0mTOPACC\u001b[0m \u001b[0;34m:\u001b[0m\u001b[0;34m\u001b[0m\u001b[0;34m\u001b[0m\u001b[0m\n\u001b[1;32m     77\u001b[0m         \u001b[0mTOPACC\u001b[0m \u001b[0;34m=\u001b[0m \u001b[0mtrain_acc\u001b[0m \u001b[0;34m*\u001b[0m \u001b[0;36m100\u001b[0m\u001b[0;34m\u001b[0m\u001b[0;34m\u001b[0m\u001b[0m\n\u001b[0;32m---> 78\u001b[0;31m         \u001b[0mtorch\u001b[0m\u001b[0;34m.\u001b[0m\u001b[0msave\u001b[0m\u001b[0;34m(\u001b[0m\u001b[0mmodel_object\u001b[0m\u001b[0;34m,\u001b[0m \u001b[0;34m'Bestmodel.pkl'\u001b[0m\u001b[0;34m)\u001b[0m\u001b[0;34m\u001b[0m\u001b[0;34m\u001b[0m\u001b[0m\n\u001b[0m\u001b[1;32m     79\u001b[0m         \u001b[0mTOPInfo\u001b[0m \u001b[0;34m=\u001b[0m \u001b[0mTOPACC\u001b[0m\u001b[0;34m\u001b[0m\u001b[0;34m\u001b[0m\u001b[0m\n\u001b[1;32m     80\u001b[0m \u001b[0;34m\u001b[0m\u001b[0m\n",
      "\u001b[0;31mNameError\u001b[0m: name 'model_object' is not defined"
     ]
    }
   ],
   "source": [
    "from torch.utils.data import DataLoader\n",
    "\n",
    "def train_func(sub_train_):\n",
    "\n",
    "    # Train the model\n",
    "    train_loss = 0\n",
    "    train_acc = 0\n",
    "    data = DataLoader(sub_train_, batch_size=BATCH_SIZE, shuffle=True,\n",
    "                      collate_fn=generate_batch)\n",
    "    for i, (text, offsets, cls) in enumerate(data):\n",
    "        optimizer.zero_grad()\n",
    "        text, offsets, cls = text.to(device), offsets.to(device), cls.to(device)\n",
    "        output = model(text, offsets)\n",
    "        loss = criterion(output, cls)\n",
    "        train_loss += loss.item()\n",
    "        loss.backward()\n",
    "        optimizer.step()\n",
    "        train_acc += (output.argmax(1) == cls).sum().item()\n",
    "\n",
    "    # Adjust the learning rate\n",
    "    scheduler.step()\n",
    "\n",
    "    return train_loss / len(sub_train_), train_acc / len(sub_train_)\n",
    "\n",
    "def test(data_):\n",
    "    loss = 0\n",
    "    acc = 0\n",
    "    data = DataLoader(data_, batch_size=BATCH_SIZE, collate_fn=generate_batch)\n",
    "    for text, offsets, cls in data:\n",
    "        text, offsets, cls = text.to(device), offsets.to(device), cls.to(device)\n",
    "        with torch.no_grad():\n",
    "            output = model(text, offsets)\n",
    "            loss = criterion(output, cls)\n",
    "            loss += loss.item()\n",
    "            acc += (output.argmax(1) == cls).sum().item()\n",
    "\n",
    "    return loss / len(data_), acc / len(data_)\n",
    "\n",
    "\n",
    "\n",
    "import time\n",
    "from torch.utils.data.dataset import random_split\n",
    "N_EPOCHS = 100\n",
    "min_valid_loss = float('inf')\n",
    "\n",
    "criterion = torch.nn.CrossEntropyLoss().to(device)\n",
    "optimizer = torch.optim.SGD(model.parameters(), lr=4.0)\n",
    "scheduler = torch.optim.lr_scheduler.StepLR(optimizer, 1, gamma=0.9)\n",
    "\n",
    "train_len = int(len(train_dataset) * 0.95)\n",
    "sub_train_, sub_valid_ = \\\n",
    "    random_split(train_dataset, [train_len, len(train_dataset) - train_len])\n",
    "\n",
    "\n",
    "TrLOSS = []\n",
    "TrACC = []\n",
    "ValLOSS = []\n",
    "ValACC = []\n",
    "\n",
    "TOPACC = 0\n",
    "TOPInfo = \"\"\n",
    "\n",
    "for epoch in range(N_EPOCHS):\n",
    "\n",
    "    start_time = time.time()\n",
    "    train_loss, train_acc = train_func(sub_train_)\n",
    "    valid_loss, valid_acc = test(sub_valid_)\n",
    "\n",
    "    secs = int(time.time() - start_time)\n",
    "    mins = secs / 60\n",
    "    secs = secs % 60\n",
    "    TrLOSS.append(train_loss)\n",
    "    TrACC.append(train_acc * 100)\n",
    "    ValLOSS.append(valid_loss)\n",
    "    ValACC.append(valid_acc * 100)\n",
    "    if train_acc * 100 > TOPACC :\n",
    "        TOPACC = train_acc * 100\n",
    "        torch.save(model, 'Bestmodel.pkl')\n",
    "        TOPInfo = TOPACC\n",
    "        \n",
    "    print('Epoch: %d' %(epoch + 1), \" | time in %d minutes, %d seconds\" %(mins, secs))\n",
    "    print(f'\\tLoss: {train_loss:.4f}(train)\\t|\\tAcc: {train_acc * 100:.1f}%(train)')\n",
    "    print(f'\\tLoss: {valid_loss:.4f}(valid)\\t|\\tAcc: {valid_acc * 100:.1f}%(valid)')\n"
   ]
  },
  {
   "cell_type": "code",
   "execution_count": 8,
   "metadata": {},
   "outputs": [
    {
     "data": {
      "image/png": "[encoded data removed]",
      "text/plain": [
       "<Figure size 432x288 with 1 Axes>"
      ]
     },
     "metadata": {
      "needs_background": "light"
     },
     "output_type": "display_data"
    },
    {
     "data": {
      "text/plain": [
       "<Figure size 432x288 with 0 Axes>"
      ]
     },
     "metadata": {},
     "output_type": "display_data"
    }
   ],
   "source": [
    "# print(TrLOSS)\n",
    "# print(TrACC)\n",
    "# print(ValLOSS)\n",
    "# print(ValACC)\n",
    "import matplotlib.pyplot as plt\n",
    "from matplotlib.font_manager import FontProperties\n",
    "\n",
    "def Draw(dataA,Alabel,dataB,Blabel):\n",
    "    plt.plot(dataA, 'r', label=Alabel)\n",
    "    plt.plot(dataB, 'g', label=Blabel)\n",
    "    plt.grid(True)\n",
    "    plt.xlabel(Alabel)\n",
    "    plt.ylabel(Blabel)\n",
    "    plt.legend(loc=\"upper right\")\n",
    "    plt.show()\n",
    "    plt.figure()\n",
    "    \n",
    "Draw(TrACC,'train acc',ValACC,'val acc')    "
   ]
  },
  {
   "cell_type": "code",
   "execution_count": 9,
   "metadata": {},
   "outputs": [
    {
     "data": {
      "image/png": "[encoded data removed]",
      "text/plain": [
       "<Figure size 432x288 with 1 Axes>"
      ]
     },
     "metadata": {
      "needs_background": "light"
     },
     "output_type": "display_data"
    },
    {
     "data": {
      "text/plain": [
       "<Figure size 432x288 with 0 Axes>"
      ]
     },
     "metadata": {},
     "output_type": "display_data"
    }
   ],
   "source": [
    "Draw(TrLOSS,'train loss',ValLOSS,'val loss')  "
   ]
  },
  {
   "cell_type": "code",
   "execution_count": null,
   "metadata": {},
   "outputs": [],
   "source": []
  }
 ],
 "metadata": {
  "kernelspec": {
   "display_name": "Python 3",
   "language": "python",
   "name": "python3"
  },
  "language_info": {
   "codemirror_mode": {
    "name": "ipython",
    "version": 3
   },
   "file_extension": ".py",
   "mimetype": "text/x-python",
   "name": "python",
   "nbconvert_exporter": "python",
   "pygments_lexer": "ipython3",
   "version": "3.6.10"
  }
 },
 "nbformat": 4,
 "nbformat_minor": 4
}
